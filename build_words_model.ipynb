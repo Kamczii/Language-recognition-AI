{
 "cells": [
  {
   "cell_type": "code",
   "execution_count": 1,
   "id": "2376ee9c",
   "metadata": {},
   "outputs": [],
   "source": [
    "from sklearn.model_selection import train_test_split\n",
    "%load_ext autoreload\n",
    "import pandas as pd\n",
    "from matplotlib import pyplot as plt\n",
    "\n",
    "from sklearn.feature_extraction.text import CountVectorizer"
   ]
  },
  {
   "cell_type": "code",
   "execution_count": 2,
   "id": "e434096f",
   "metadata": {},
   "outputs": [
    {
     "name": "stdout",
     "output_type": "stream",
     "text": [
      "The autoreload extension is already loaded. To reload it, use:\n",
      "  %reload_ext autoreload\n"
     ]
    }
   ],
   "source": [
    "%load_ext autoreload\n",
    "%autoreload 2\n",
    "from utils import prepare_dataframe, sentences_by_lang\n",
    "df = prepare_dataframe()"
   ]
  },
  {
   "cell_type": "markdown",
   "id": "a802b261",
   "metadata": {},
   "source": [
    "### Przygotowanie danych"
   ]
  },
  {
   "cell_type": "code",
   "execution_count": 3,
   "id": "ac4e8b2c",
   "metadata": {
    "pycharm": {
     "name": "#%%\n"
    }
   },
   "outputs": [],
   "source": [
    "from utils import languages, create_feature_dictionary, trigrams_by_lang\n",
    "\n",
    "X_train: [str] = []\n",
    "X_test: [str] = []\n",
    "y_train: [str]= []\n",
    "y_test: [str]= []\n",
    "\n",
    "words = set()\n",
    "\n",
    "for lang in languages:\n",
    "    sentences = df[df[\"lang\"] == lang][\"sentence\"]\n",
    "    Xt, xtest = train_test_split(sentences, test_size = 0.2)\n",
    "    yt =  len(Xt) * [lang]\n",
    "    ytest =  len(xtest) * [lang]\n",
    "    X_train.extend(Xt)\n",
    "    y_train.extend(yt)\n",
    "    X_test.extend(xtest)\n",
    "    y_test.extend(ytest)\n",
    "\n",
    "    vectorizer = CountVectorizer(max_features=trigrams_by_lang, min_df=5)\n",
    "    X = vectorizer.fit_transform(Xt)\n",
    "    words.update(vectorizer.vocabulary_)\n",
    "\n",
    "vocabulary = create_feature_dictionary(words)"
   ]
  },
  {
   "cell_type": "markdown",
   "id": "a328b9c6",
   "metadata": {},
   "source": []
  },
  {
   "cell_type": "code",
   "execution_count": 4,
   "id": "a5988b58",
   "metadata": {},
   "outputs": [],
   "source": [
    "vectorizer = CountVectorizer(vocabulary=vocabulary)\n",
    "X = vectorizer.fit_transform(X_train)\n",
    "features = pd.DataFrame(data=X.toarray(), columns=vectorizer.get_feature_names_out())"
   ]
  },
  {
   "cell_type": "code",
   "execution_count": 5,
   "id": "13188fd5",
   "metadata": {
    "pycharm": {
     "name": "#%%\n"
    }
   },
   "outputs": [
    {
     "data": {
      "text/html": [
       "<div>\n",
       "<style scoped>\n",
       "    .dataframe tbody tr th:only-of-type {\n",
       "        vertical-align: middle;\n",
       "    }\n",
       "\n",
       "    .dataframe tbody tr th {\n",
       "        vertical-align: top;\n",
       "    }\n",
       "\n",
       "    .dataframe thead th {\n",
       "        text-align: right;\n",
       "    }\n",
       "</style>\n",
       "<table border=\"1\" class=\"dataframe\">\n",
       "  <thead>\n",
       "    <tr style=\"text-align: right;\">\n",
       "      <th></th>\n",
       "      <th>qué</th>\n",
       "      <th>alla</th>\n",
       "      <th>tell</th>\n",
       "      <th>stato</th>\n",
       "      <th>zum</th>\n",
       "      <th>sein</th>\n",
       "      <th>in</th>\n",
       "      <th>se</th>\n",
       "      <th>nos</th>\n",
       "      <th>siempre</th>\n",
       "      <th>...</th>\n",
       "      <th>el</th>\n",
       "      <th>están</th>\n",
       "      <th>como</th>\n",
       "      <th>deine</th>\n",
       "      <th>eres</th>\n",
       "      <th>detto</th>\n",
       "      <th>let</th>\n",
       "      <th>aus</th>\n",
       "      <th>sagte</th>\n",
       "      <th>bene</th>\n",
       "    </tr>\n",
       "  </thead>\n",
       "  <tbody>\n",
       "    <tr>\n",
       "      <th>0</th>\n",
       "      <td>0.0</td>\n",
       "      <td>0.0</td>\n",
       "      <td>0.0</td>\n",
       "      <td>0.0</td>\n",
       "      <td>0.0</td>\n",
       "      <td>0.0</td>\n",
       "      <td>0.000000</td>\n",
       "      <td>0.0</td>\n",
       "      <td>0.0</td>\n",
       "      <td>0.0</td>\n",
       "      <td>...</td>\n",
       "      <td>0.0</td>\n",
       "      <td>0.0</td>\n",
       "      <td>0.0</td>\n",
       "      <td>0.0</td>\n",
       "      <td>0.0</td>\n",
       "      <td>0.0</td>\n",
       "      <td>0.0</td>\n",
       "      <td>0.0</td>\n",
       "      <td>0.0</td>\n",
       "      <td>0.0</td>\n",
       "    </tr>\n",
       "    <tr>\n",
       "      <th>1</th>\n",
       "      <td>0.0</td>\n",
       "      <td>0.0</td>\n",
       "      <td>0.0</td>\n",
       "      <td>0.0</td>\n",
       "      <td>0.0</td>\n",
       "      <td>0.0</td>\n",
       "      <td>0.000000</td>\n",
       "      <td>0.0</td>\n",
       "      <td>0.0</td>\n",
       "      <td>0.0</td>\n",
       "      <td>...</td>\n",
       "      <td>0.0</td>\n",
       "      <td>0.0</td>\n",
       "      <td>0.0</td>\n",
       "      <td>0.0</td>\n",
       "      <td>0.0</td>\n",
       "      <td>0.0</td>\n",
       "      <td>0.0</td>\n",
       "      <td>0.0</td>\n",
       "      <td>0.0</td>\n",
       "      <td>0.0</td>\n",
       "    </tr>\n",
       "    <tr>\n",
       "      <th>2</th>\n",
       "      <td>0.0</td>\n",
       "      <td>0.0</td>\n",
       "      <td>0.0</td>\n",
       "      <td>0.0</td>\n",
       "      <td>0.0</td>\n",
       "      <td>0.0</td>\n",
       "      <td>0.000000</td>\n",
       "      <td>0.0</td>\n",
       "      <td>0.0</td>\n",
       "      <td>0.0</td>\n",
       "      <td>...</td>\n",
       "      <td>0.0</td>\n",
       "      <td>0.0</td>\n",
       "      <td>0.0</td>\n",
       "      <td>0.0</td>\n",
       "      <td>0.0</td>\n",
       "      <td>0.0</td>\n",
       "      <td>0.0</td>\n",
       "      <td>0.0</td>\n",
       "      <td>0.0</td>\n",
       "      <td>0.0</td>\n",
       "    </tr>\n",
       "    <tr>\n",
       "      <th>3</th>\n",
       "      <td>0.0</td>\n",
       "      <td>0.0</td>\n",
       "      <td>0.0</td>\n",
       "      <td>0.0</td>\n",
       "      <td>0.0</td>\n",
       "      <td>0.0</td>\n",
       "      <td>0.000000</td>\n",
       "      <td>0.0</td>\n",
       "      <td>0.0</td>\n",
       "      <td>0.0</td>\n",
       "      <td>...</td>\n",
       "      <td>0.0</td>\n",
       "      <td>0.0</td>\n",
       "      <td>0.0</td>\n",
       "      <td>0.0</td>\n",
       "      <td>0.0</td>\n",
       "      <td>0.0</td>\n",
       "      <td>0.0</td>\n",
       "      <td>0.0</td>\n",
       "      <td>0.0</td>\n",
       "      <td>0.0</td>\n",
       "    </tr>\n",
       "    <tr>\n",
       "      <th>4</th>\n",
       "      <td>0.0</td>\n",
       "      <td>0.0</td>\n",
       "      <td>0.0</td>\n",
       "      <td>0.0</td>\n",
       "      <td>0.0</td>\n",
       "      <td>0.0</td>\n",
       "      <td>0.000000</td>\n",
       "      <td>0.0</td>\n",
       "      <td>0.0</td>\n",
       "      <td>0.0</td>\n",
       "      <td>...</td>\n",
       "      <td>0.0</td>\n",
       "      <td>0.0</td>\n",
       "      <td>0.0</td>\n",
       "      <td>0.0</td>\n",
       "      <td>0.0</td>\n",
       "      <td>0.0</td>\n",
       "      <td>0.0</td>\n",
       "      <td>0.0</td>\n",
       "      <td>0.0</td>\n",
       "      <td>0.0</td>\n",
       "    </tr>\n",
       "    <tr>\n",
       "      <th>...</th>\n",
       "      <td>...</td>\n",
       "      <td>...</td>\n",
       "      <td>...</td>\n",
       "      <td>...</td>\n",
       "      <td>...</td>\n",
       "      <td>...</td>\n",
       "      <td>...</td>\n",
       "      <td>...</td>\n",
       "      <td>...</td>\n",
       "      <td>...</td>\n",
       "      <td>...</td>\n",
       "      <td>...</td>\n",
       "      <td>...</td>\n",
       "      <td>...</td>\n",
       "      <td>...</td>\n",
       "      <td>...</td>\n",
       "      <td>...</td>\n",
       "      <td>...</td>\n",
       "      <td>...</td>\n",
       "      <td>...</td>\n",
       "      <td>...</td>\n",
       "    </tr>\n",
       "    <tr>\n",
       "      <th>319995</th>\n",
       "      <td>0.0</td>\n",
       "      <td>0.0</td>\n",
       "      <td>0.0</td>\n",
       "      <td>0.0</td>\n",
       "      <td>0.0</td>\n",
       "      <td>0.0</td>\n",
       "      <td>0.000000</td>\n",
       "      <td>0.0</td>\n",
       "      <td>0.0</td>\n",
       "      <td>0.0</td>\n",
       "      <td>...</td>\n",
       "      <td>0.0</td>\n",
       "      <td>0.0</td>\n",
       "      <td>0.0</td>\n",
       "      <td>0.0</td>\n",
       "      <td>0.0</td>\n",
       "      <td>0.0</td>\n",
       "      <td>0.0</td>\n",
       "      <td>0.0</td>\n",
       "      <td>0.0</td>\n",
       "      <td>0.0</td>\n",
       "    </tr>\n",
       "    <tr>\n",
       "      <th>319996</th>\n",
       "      <td>0.0</td>\n",
       "      <td>0.0</td>\n",
       "      <td>0.0</td>\n",
       "      <td>0.0</td>\n",
       "      <td>0.0</td>\n",
       "      <td>0.0</td>\n",
       "      <td>0.111111</td>\n",
       "      <td>0.0</td>\n",
       "      <td>0.0</td>\n",
       "      <td>0.0</td>\n",
       "      <td>...</td>\n",
       "      <td>0.0</td>\n",
       "      <td>0.0</td>\n",
       "      <td>0.0</td>\n",
       "      <td>0.0</td>\n",
       "      <td>0.0</td>\n",
       "      <td>0.0</td>\n",
       "      <td>0.0</td>\n",
       "      <td>0.0</td>\n",
       "      <td>0.0</td>\n",
       "      <td>0.0</td>\n",
       "    </tr>\n",
       "    <tr>\n",
       "      <th>319997</th>\n",
       "      <td>0.0</td>\n",
       "      <td>0.0</td>\n",
       "      <td>0.0</td>\n",
       "      <td>0.0</td>\n",
       "      <td>0.0</td>\n",
       "      <td>0.0</td>\n",
       "      <td>0.000000</td>\n",
       "      <td>0.0</td>\n",
       "      <td>0.0</td>\n",
       "      <td>0.0</td>\n",
       "      <td>...</td>\n",
       "      <td>0.0</td>\n",
       "      <td>0.0</td>\n",
       "      <td>0.0</td>\n",
       "      <td>0.0</td>\n",
       "      <td>0.0</td>\n",
       "      <td>0.0</td>\n",
       "      <td>0.0</td>\n",
       "      <td>0.0</td>\n",
       "      <td>0.0</td>\n",
       "      <td>0.0</td>\n",
       "    </tr>\n",
       "    <tr>\n",
       "      <th>319998</th>\n",
       "      <td>0.0</td>\n",
       "      <td>0.0</td>\n",
       "      <td>0.0</td>\n",
       "      <td>0.0</td>\n",
       "      <td>0.0</td>\n",
       "      <td>0.0</td>\n",
       "      <td>0.111111</td>\n",
       "      <td>0.0</td>\n",
       "      <td>0.0</td>\n",
       "      <td>0.0</td>\n",
       "      <td>...</td>\n",
       "      <td>0.0</td>\n",
       "      <td>0.0</td>\n",
       "      <td>0.0</td>\n",
       "      <td>0.0</td>\n",
       "      <td>0.0</td>\n",
       "      <td>0.0</td>\n",
       "      <td>0.0</td>\n",
       "      <td>0.0</td>\n",
       "      <td>0.0</td>\n",
       "      <td>0.0</td>\n",
       "    </tr>\n",
       "    <tr>\n",
       "      <th>319999</th>\n",
       "      <td>0.0</td>\n",
       "      <td>0.0</td>\n",
       "      <td>0.0</td>\n",
       "      <td>0.0</td>\n",
       "      <td>0.0</td>\n",
       "      <td>0.0</td>\n",
       "      <td>0.111111</td>\n",
       "      <td>0.0</td>\n",
       "      <td>0.0</td>\n",
       "      <td>0.0</td>\n",
       "      <td>...</td>\n",
       "      <td>0.0</td>\n",
       "      <td>0.0</td>\n",
       "      <td>0.0</td>\n",
       "      <td>0.0</td>\n",
       "      <td>0.0</td>\n",
       "      <td>0.0</td>\n",
       "      <td>0.0</td>\n",
       "      <td>0.0</td>\n",
       "      <td>0.0</td>\n",
       "      <td>0.0</td>\n",
       "    </tr>\n",
       "  </tbody>\n",
       "</table>\n",
       "<p>320000 rows × 556 columns</p>\n",
       "</div>"
      ],
      "text/plain": [
       "        qué  alla  tell  stato  zum  sein        in   se  nos  siempre  ...  \\\n",
       "0       0.0   0.0   0.0    0.0  0.0   0.0  0.000000  0.0  0.0      0.0  ...   \n",
       "1       0.0   0.0   0.0    0.0  0.0   0.0  0.000000  0.0  0.0      0.0  ...   \n",
       "2       0.0   0.0   0.0    0.0  0.0   0.0  0.000000  0.0  0.0      0.0  ...   \n",
       "3       0.0   0.0   0.0    0.0  0.0   0.0  0.000000  0.0  0.0      0.0  ...   \n",
       "4       0.0   0.0   0.0    0.0  0.0   0.0  0.000000  0.0  0.0      0.0  ...   \n",
       "...     ...   ...   ...    ...  ...   ...       ...  ...  ...      ...  ...   \n",
       "319995  0.0   0.0   0.0    0.0  0.0   0.0  0.000000  0.0  0.0      0.0  ...   \n",
       "319996  0.0   0.0   0.0    0.0  0.0   0.0  0.111111  0.0  0.0      0.0  ...   \n",
       "319997  0.0   0.0   0.0    0.0  0.0   0.0  0.000000  0.0  0.0      0.0  ...   \n",
       "319998  0.0   0.0   0.0    0.0  0.0   0.0  0.111111  0.0  0.0      0.0  ...   \n",
       "319999  0.0   0.0   0.0    0.0  0.0   0.0  0.111111  0.0  0.0      0.0  ...   \n",
       "\n",
       "         el  están  como  deine  eres  detto  let  aus  sagte  bene  \n",
       "0       0.0    0.0   0.0    0.0   0.0    0.0  0.0  0.0    0.0   0.0  \n",
       "1       0.0    0.0   0.0    0.0   0.0    0.0  0.0  0.0    0.0   0.0  \n",
       "2       0.0    0.0   0.0    0.0   0.0    0.0  0.0  0.0    0.0   0.0  \n",
       "3       0.0    0.0   0.0    0.0   0.0    0.0  0.0  0.0    0.0   0.0  \n",
       "4       0.0    0.0   0.0    0.0   0.0    0.0  0.0  0.0    0.0   0.0  \n",
       "...     ...    ...   ...    ...   ...    ...  ...  ...    ...   ...  \n",
       "319995  0.0    0.0   0.0    0.0   0.0    0.0  0.0  0.0    0.0   0.0  \n",
       "319996  0.0    0.0   0.0    0.0   0.0    0.0  0.0  0.0    0.0   0.0  \n",
       "319997  0.0    0.0   0.0    0.0   0.0    0.0  0.0  0.0    0.0   0.0  \n",
       "319998  0.0    0.0   0.0    0.0   0.0    0.0  0.0  0.0    0.0   0.0  \n",
       "319999  0.0    0.0   0.0    0.0   0.0    0.0  0.0  0.0    0.0   0.0  \n",
       "\n",
       "[320000 rows x 556 columns]"
      ]
     },
     "execution_count": 5,
     "metadata": {},
     "output_type": "execute_result"
    }
   ],
   "source": [
    "from utils import normalize\n",
    "\n",
    "normalize(features)"
   ]
  },
  {
   "cell_type": "code",
   "execution_count": 6,
   "id": "8456f1f1",
   "metadata": {
    "pycharm": {
     "name": "#%%\n"
    }
   },
   "outputs": [],
   "source": [
    "from utils import FFN_Hyperparams, build_model\n",
    "params = FFN_Hyperparams(len(features.columns), len(languages), [500,500,250], 'relu')\n",
    "model = build_model(params)"
   ]
  },
  {
   "cell_type": "code",
   "execution_count": 7,
   "id": "ee3217cb",
   "metadata": {
    "pycharm": {
     "name": "#%%\n"
    }
   },
   "outputs": [],
   "source": [
    "from utils import create_encoder, encode\n",
    "\n",
    "encoder = create_encoder()\n",
    "y = encode(y_train, encoder)"
   ]
  },
  {
   "cell_type": "code",
   "execution_count": null,
   "id": "95ac039d",
   "metadata": {
    "pycharm": {
     "name": "#%%\n"
    }
   },
   "outputs": [
    {
     "name": "stdout",
     "output_type": "stream",
     "text": [
      "Epoch 1/30\n",
      "10000/10000 [==============================] - 40s 4ms/step - loss: 0.0737 - accuracy: 0.9675\n",
      "Epoch 2/30\n",
      "10000/10000 [==============================] - 39s 4ms/step - loss: 0.0626 - accuracy: 0.9719\n",
      "Epoch 3/30\n",
      " 3027/10000 [========>.....................] - ETA: 26s - loss: 0.0627 - accuracy: 0.9720"
     ]
    }
   ],
   "source": [
    "from utils import DataGenerator\n",
    "\n",
    "train_gen = DataGenerator(features, y, 32)\n",
    "history = model.fit(train_gen, epochs=30, batch_size=6)"
   ]
  },
  {
   "cell_type": "code",
   "execution_count": null,
   "id": "ca9f5373",
   "metadata": {
    "pycharm": {
     "name": "#%%\n"
    }
   },
   "outputs": [],
   "source": [
    "plt.plot(history.history['accuracy'])\n",
    "plt.title('Trafność modelu na podstawie słów')\n",
    "plt.ylabel('Trafność')\n",
    "plt.xlabel('Epoch')\n",
    "plt.legend(['train', 'validation'], loc='upper left')\n",
    "plt.show()\n",
    "# \"Loss\"\n",
    "plt.plot(history.history['loss'])\n",
    "plt.title('Funkcja kosztu')\n",
    "plt.ylabel('Koszt')\n",
    "plt.xlabel('Epoch')\n",
    "plt.legend(['train', 'validation'], loc='upper left')\n",
    "plt.show()"
   ]
  },
  {
   "cell_type": "code",
   "execution_count": null,
   "id": "8af958c5",
   "metadata": {
    "pycharm": {
     "name": "#%%\n"
    }
   },
   "outputs": [],
   "source": [
    "from utils import test_model\n",
    "\n",
    "vectorizer = CountVectorizer(vocabulary=vocabulary)\n",
    "X = vectorizer.fit_transform(X_test)\n",
    "features = pd.DataFrame(data=X.toarray(), columns=vectorizer.get_feature_names_out())\n",
    "\n",
    "encoder = create_encoder()\n",
    "y = encode(y_test, encoder)"
   ]
  },
  {
   "cell_type": "code",
   "execution_count": null,
   "id": "9380e0df",
   "metadata": {
    "pycharm": {
     "name": "#%%\n"
    }
   },
   "outputs": [],
   "source": [
    "accuracy = test_model(model, encoder, features, y)"
   ]
  },
  {
   "cell_type": "code",
   "execution_count": null,
   "id": "58b5ae01",
   "metadata": {
    "pycharm": {
     "name": "#%%\n"
    }
   },
   "outputs": [],
   "source": [
    "accuracy"
   ]
  },
  {
   "cell_type": "code",
   "execution_count": null,
   "id": "9f8ce32c",
   "metadata": {
    "pycharm": {
     "name": "#%%\n"
    }
   },
   "outputs": [],
   "source": []
  }
 ],
 "metadata": {
  "kernelspec": {
   "display_name": "Python 3 (ipykernel)",
   "language": "python",
   "name": "python3"
  },
  "language_info": {
   "codemirror_mode": {
    "name": "ipython",
    "version": 3
   },
   "file_extension": ".py",
   "mimetype": "text/x-python",
   "name": "python",
   "nbconvert_exporter": "python",
   "pygments_lexer": "ipython3",
   "version": "3.9.10"
  }
 },
 "nbformat": 4,
 "nbformat_minor": 5
}