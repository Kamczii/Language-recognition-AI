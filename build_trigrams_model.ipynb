{
 "cells": [
  {
   "cell_type": "code",
   "execution_count": 2,
   "id": "2376ee9c",
   "metadata": {},
   "outputs": [
    {
     "name": "stdout",
     "output_type": "stream",
     "text": [
      "The autoreload extension is already loaded. To reload it, use:\n",
      "  %reload_ext autoreload\n"
     ]
    }
   ],
   "source": [
    "%load_ext autoreload\n",
    "import pickle\n",
    "import numpy as np\n",
    "import pandas as pd\n",
    "import tensorflow as tf\n",
    "from matplotlib import pyplot as plt\n",
    "\n",
    "from utils import languages, get_trigrams_sets, encode, prepare_dataframe, normalize, \\\n",
    "    FFN_Hyperparams, build_model, create_encoder, test_model, create_feature_dictionary, sentences_by_lang\n",
    "from sklearn.metrics import accuracy_score\n",
    "from sklearn.model_selection import train_test_split\n",
    "from sklearn.feature_extraction.text import CountVectorizer"
   ]
  },
  {
   "cell_type": "markdown",
   "id": "a802b261",
   "metadata": {},
   "source": [
    "### Przygotowanie danych"
   ]
  },
  {
   "cell_type": "code",
   "execution_count": 3,
   "id": "818df738",
   "metadata": {
    "pycharm": {
     "name": "#%%\n"
    }
   },
   "outputs": [
    {
     "name": "stdout",
     "output_type": "stream",
     "text": [
      "['eng', 'deu', 'spa', 'ita', 'por', 'fra']\n",
      "200000\n"
     ]
    }
   ],
   "source": [
    "print(languages)\n",
    "print(sentences_by_lang)"
   ]
  },
  {
   "cell_type": "code",
   "execution_count": 4,
   "id": "e608439e",
   "metadata": {},
   "outputs": [],
   "source": [
    "df = prepare_dataframe()"
   ]
  },
  {
   "cell_type": "code",
   "execution_count": 5,
   "id": "ca01e166",
   "metadata": {},
   "outputs": [],
   "source": [
    "all_trigrams, _ = get_trigrams_sets(df)"
   ]
  },
  {
   "cell_type": "markdown",
   "id": "2ac551b3",
   "metadata": {},
   "source": [
    "### Bag of words"
   ]
  },
  {
   "cell_type": "code",
   "execution_count": 6,
   "id": "5a380bd7",
   "metadata": {},
   "outputs": [],
   "source": [
    "# Tworzymy bag of words, nie wykorzystujemy binarnego bag of words ponieważ trigramy w zdaniu mogą się powtórzyć i stracilibyśmy tę informację.\n",
    "# Wadą BoW jest fakt, że każdy trigram jest tak samo ważny, ale w naszym problemie to nie przeszkadza.\n",
    "dic = create_feature_dictionary(all_trigrams)\n",
    "\n",
    "vectorizer = CountVectorizer(vocabulary=dic, ngram_range=(3,3), analyzer=\"char\") #ngram_range bierzemy tylko trigramy, analyzer bierzemy pod uwagę znaki,// char_wb nie zliczało poprawnie kolumn\n",
    "sentences = df[\"sentence\"]\n",
    "langs = df[\"lang\"]\n",
    "X = vectorizer.fit_transform(sentences)\n",
    "# Tworzymy macierz wystąpień poszcególnych trigramów\n",
    "features = pd.DataFrame(data=X.toarray(), columns=all_trigrams)"
   ]
  },
  {
   "cell_type": "markdown",
   "id": "40b300d7",
   "metadata": {},
   "source": [
    "### Normalizacja"
   ]
  },
  {
   "cell_type": "code",
   "execution_count": 7,
   "id": "58679fd8",
   "metadata": {
    "pycharm": {
     "name": "#%%\n"
    }
   },
   "outputs": [],
   "source": [
    "features = normalize(features)\n",
    "features[\"lang\"] = list(langs) # dodajemy dodatkową kolumnę z naszym outputem"
   ]
  },
  {
   "cell_type": "markdown",
   "id": "51b6407f",
   "metadata": {},
   "source": [
    "### Podział na dane testowe i treningowe"
   ]
  },
  {
   "cell_type": "code",
   "execution_count": 8,
   "id": "0b7402d6",
   "metadata": {},
   "outputs": [],
   "source": [
    "encoder = create_encoder()\n",
    "x = features.drop('lang',axis=1)\n",
    "y = encode(features['lang'], encoder)\n",
    "X_train, X_test, y_train, y_test = train_test_split(x, y, test_size = 0.2)"
   ]
  },
  {
   "cell_type": "markdown",
   "id": "fbe03d68",
   "metadata": {},
   "source": [
    "### Przygotowanie modelu"
   ]
  },
  {
   "cell_type": "code",
   "execution_count": 9,
   "id": "05b1af3d",
   "metadata": {},
   "outputs": [],
   "source": [
    "params = FFN_Hyperparams(len(X_train.columns), len(languages), [500,500,250], 'relu')\n",
    "model = build_model(params)"
   ]
  },
  {
   "cell_type": "markdown",
   "id": "1bfeacce",
   "metadata": {},
   "source": [
    "### INFO o urządzeniach"
   ]
  },
  {
   "cell_type": "code",
   "execution_count": 10,
   "id": "016b93ce",
   "metadata": {
    "pycharm": {
     "name": "#%%\n"
    },
    "scrolled": true
   },
   "outputs": [
    {
     "data": {
      "text/plain": "[PhysicalDevice(name='/physical_device:CPU:0', device_type='CPU'),\n PhysicalDevice(name='/physical_device:GPU:0', device_type='GPU')]"
     },
     "execution_count": 10,
     "metadata": {},
     "output_type": "execute_result"
    }
   ],
   "source": [
    "tf.config.list_physical_devices()"
   ]
  },
  {
   "cell_type": "markdown",
   "id": "dc03e836",
   "metadata": {},
   "source": [
    "### Uruchomienie treningu"
   ]
  },
  {
   "cell_type": "code",
   "execution_count": 11,
   "id": "a35b1422",
   "metadata": {},
   "outputs": [],
   "source": [
    "from tensorflow.keras.utils import Sequence\n",
    "class DataGenerator(Sequence):\n",
    "    def __init__(self, x_set, y_set, batch_size):\n",
    "        self.x, self.y = x_set, y_set\n",
    "        self.batch_size = batch_size\n",
    "\n",
    "    def __len__(self):\n",
    "        return int(np.ceil(len(self.x) / float(self.batch_size)))\n",
    "\n",
    "    def __getitem__(self, idx):\n",
    "        batch_x = self.x[idx * self.batch_size:(idx + 1) * self.batch_size]\n",
    "        batch_y = self.y[idx * self.batch_size:(idx + 1) * self.batch_size]\n",
    "        return batch_x, batch_y"
   ]
  },
  {
   "cell_type": "code",
   "execution_count": 12,
   "id": "f61f3bf3",
   "metadata": {},
   "outputs": [
    {
     "name": "stdout",
     "output_type": "stream",
     "text": [
      "Epoch 1/6\n",
      "30000/30000 [==============================] - 123s 4ms/step - loss: 0.0804 - accuracy: 0.9715\n",
      "Epoch 2/6\n",
      "30000/30000 [==============================] - 125s 4ms/step - loss: 0.0598 - accuracy: 0.9814\n",
      "Epoch 3/6\n",
      "30000/30000 [==============================] - 123s 4ms/step - loss: 0.0421 - accuracy: 0.9849\n",
      "Epoch 4/6\n",
      "30000/30000 [==============================] - 114s 4ms/step - loss: 0.0370 - accuracy: 0.9871\n",
      "Epoch 5/6\n",
      "30000/30000 [==============================] - 119s 4ms/step - loss: 0.0314 - accuracy: 0.9888\n",
      "Epoch 6/6\n",
      "30000/30000 [==============================] - 121s 4ms/step - loss: 0.0341 - accuracy: 0.9900\n"
     ]
    }
   ],
   "source": [
    "# Z użyciem gpu\n",
    "#with tf.device('/GPU:0'):\n",
    "\n",
    "\n",
    "# Sample - jeden wiersz danych wejściowych - jeden przykład.\n",
    "# Batch - po ilu samplach, które przeszły przez sieć zaktualizować wagi.\n",
    "# Batch Gradient Descent. Batch Size = Size of Training Set\n",
    "# Stochastic Gradient Descent. Batch Size = 1\n",
    "# Mini-Batch Gradient Descent. 1 < Batch Size < Size of Training Set\n",
    "# Epoch - ile razy cały training set przeszedł przez sieć.\n",
    "# Learning rate - jak szybko funkcja kosztu schodzi do minimum\n",
    "train_gen = DataGenerator(X_train, y_train, 32)\n",
    "length = int(len(X_train)/2)\n",
    "history = model.fit(train_gen, epochs=20, batch_size=6)"
   ]
  },
  {
   "cell_type": "code",
   "execution_count": 13,
   "id": "08f23f3c",
   "metadata": {
    "pycharm": {
     "name": "#%%\n"
    }
   },
   "outputs": [
    {
     "data": {
      "text/plain": "<Figure size 432x288 with 1 Axes>",
      "image/png": "[encoded data removed]"
     },
     "metadata": {
      "needs_background": "light"
     },
     "output_type": "display_data"
    },
    {
     "data": {
      "text/plain": "<Figure size 432x288 with 1 Axes>",
      "image/png": "[encoded data removed]"
     },
     "metadata": {
      "needs_background": "light"
     },
     "output_type": "display_data"
    }
   ],
   "source": [
    "plt.plot(history.history['accuracy'])\n",
    "plt.title('model accuracy')\n",
    "plt.ylabel('accuracy')\n",
    "plt.xlabel('epoch')\n",
    "plt.legend(['train', 'validation'], loc='upper left')\n",
    "plt.show()\n",
    "# \"Loss\"\n",
    "plt.plot(history.history['loss'])\n",
    "plt.title('model loss')\n",
    "plt.ylabel('loss')\n",
    "plt.xlabel('epoch')\n",
    "plt.legend(['train', 'validation'], loc='upper left')\n",
    "plt.show()"
   ]
  },
  {
   "cell_type": "markdown",
   "id": "987ff0cf",
   "metadata": {
    "pycharm": {
     "name": "#%%\n"
    }
   },
   "source": [
    "### Test precyzji"
   ]
  },
  {
   "cell_type": "code",
   "execution_count": 14,
   "id": "5d01777f",
   "metadata": {},
   "outputs": [
    {
     "name": "stdout",
     "output_type": "stream",
     "text": [
      "7500/7500 [==============================] - 10s 1ms/step\n"
     ]
    }
   ],
   "source": [
    "accuracy = test_model(model, encoder, X_test, y_test)"
   ]
  },
  {
   "cell_type": "code",
   "execution_count": 15,
   "id": "51c7f1bc",
   "metadata": {
    "pycharm": {
     "name": "#%%\n"
    }
   },
   "outputs": [
    {
     "name": "stdout",
     "output_type": "stream",
     "text": [
      "Accuracy:  0.9840375\n",
      "INFO:tensorflow:Assets written to: trigrams_recognition\\assets\n"
     ]
    }
   ],
   "source": [
    "print(\"Accuracy: \", accuracy)\n",
    "if accuracy > 0.9:\n",
    "    model.save(\"trigrams_recognition\")\n",
    "    with open('trigrams_labels.pkl', 'wb') as f:\n",
    "        pickle.dump(encoder.classes_, f)\n",
    "    with open('trigrams_vectorizer.pkl', 'wb') as f:\n",
    "        pickle.dump(vectorizer, f)"
   ]
  },
  {
   "cell_type": "code",
   "execution_count": 16,
   "id": "964db172",
   "metadata": {
    "pycharm": {
     "name": "#%%\n"
    }
   },
   "outputs": [
    {
     "name": "stdout",
     "output_type": "stream",
     "text": [
      "Epoch 1/20\n",
      "30000/30000 [==============================] - 135s 4ms/step - loss: 0.0244 - accuracy: 0.9910\n",
      "Epoch 2/20\n",
      "30000/30000 [==============================] - 124s 4ms/step - loss: 0.0712 - accuracy: 0.9917\n",
      "Epoch 3/20\n",
      "30000/30000 [==============================] - 125s 4ms/step - loss: 0.0228 - accuracy: 0.9924\n",
      "Epoch 4/20\n",
      "30000/30000 [==============================] - 125s 4ms/step - loss: 0.0198 - accuracy: 0.9927\n",
      "Epoch 5/20\n",
      "30000/30000 [==============================] - 124s 4ms/step - loss: 0.0185 - accuracy: 0.9932\n",
      "Epoch 6/20\n",
      "30000/30000 [==============================] - 124s 4ms/step - loss: 0.0181 - accuracy: 0.9936\n",
      "Epoch 7/20\n",
      "30000/30000 [==============================] - 131s 4ms/step - loss: 0.0231 - accuracy: 0.9938\n",
      "Epoch 8/20\n",
      "30000/30000 [==============================] - 126s 4ms/step - loss: 0.0159 - accuracy: 0.9941\n",
      "Epoch 9/20\n",
      "30000/30000 [==============================] - 125s 4ms/step - loss: 0.0165 - accuracy: 0.9944\n",
      "Epoch 10/20\n",
      "30000/30000 [==============================] - 124s 4ms/step - loss: 0.0150 - accuracy: 0.9946\n",
      "Epoch 11/20\n",
      "30000/30000 [==============================] - 123s 4ms/step - loss: 0.0160 - accuracy: 0.9949\n",
      "Epoch 12/20\n",
      "30000/30000 [==============================] - 124s 4ms/step - loss: 0.0149 - accuracy: 0.9950\n",
      "Epoch 13/20\n",
      "30000/30000 [==============================] - 125s 4ms/step - loss: 0.0138 - accuracy: 0.9952\n",
      "Epoch 14/20\n",
      "30000/30000 [==============================] - 126s 4ms/step - loss: 0.0138 - accuracy: 0.9953\n",
      "Epoch 15/20\n",
      "30000/30000 [==============================] - 126s 4ms/step - loss: 0.0129 - accuracy: 0.9955\n",
      "Epoch 16/20\n",
      "30000/30000 [==============================] - 126s 4ms/step - loss: 0.0191 - accuracy: 0.9955\n",
      "Epoch 17/20\n",
      "30000/30000 [==============================] - 127s 4ms/step - loss: 0.0126 - accuracy: 0.9955\n",
      "Epoch 18/20\n",
      "30000/30000 [==============================] - 127s 4ms/step - loss: 0.0123 - accuracy: 0.9958\n",
      "Epoch 19/20\n",
      "30000/30000 [==============================] - 126s 4ms/step - loss: 0.0117 - accuracy: 0.9958\n",
      "Epoch 20/20\n",
      "30000/30000 [==============================] - 126s 4ms/step - loss: 0.0120 - accuracy: 0.9958\n"
     ]
    }
   ],
   "source": [
    "train_gen = DataGenerator(X_train, y_train, 32)\n",
    "length = int(len(X_train)/2)\n",
    "history = model.fit(train_gen, epochs=20, batch_size=6)"
   ]
  },
  {
   "cell_type": "code",
   "execution_count": 17,
   "outputs": [
    {
     "data": {
      "text/plain": "<Figure size 432x288 with 1 Axes>",
      "image/png": "[encoded data removed]"
     },
     "metadata": {
      "needs_background": "light"
     },
     "output_type": "display_data"
    },
    {
     "data": {
      "text/plain": "<Figure size 432x288 with 1 Axes>",
      "image/png": "[encoded data removed]"
     },
     "metadata": {
      "needs_background": "light"
     },
     "output_type": "display_data"
    }
   ],
   "source": [
    "plt.plot(history.history['accuracy'])\n",
    "plt.title('model accuracy')\n",
    "plt.ylabel('accuracy')\n",
    "plt.xlabel('epoch')\n",
    "plt.legend(['train', 'validation'], loc='upper left')\n",
    "plt.show()\n",
    "# \"Loss\"\n",
    "plt.plot(history.history['loss'])\n",
    "plt.title('model loss')\n",
    "plt.ylabel('loss')\n",
    "plt.xlabel('epoch')\n",
    "plt.legend(['train', 'validation'], loc='upper left')\n",
    "plt.show()"
   ],
   "metadata": {
    "collapsed": false,
    "pycharm": {
     "name": "#%%\n"
    }
   }
  },
  {
   "cell_type": "code",
   "execution_count": 18,
   "outputs": [
    {
     "name": "stdout",
     "output_type": "stream",
     "text": [
      "7500/7500 [==============================] - 11s 1ms/step\n"
     ]
    }
   ],
   "source": [
    "accuracy = test_model(model, encoder, X_test, y_test)"
   ],
   "metadata": {
    "collapsed": false,
    "pycharm": {
     "name": "#%%\n"
    }
   }
  },
  {
   "cell_type": "code",
   "execution_count": 19,
   "outputs": [
    {
     "name": "stdout",
     "output_type": "stream",
     "text": [
      "Accuracy:  0.9839458333333333\n",
      "INFO:tensorflow:Assets written to: trigrams_recognition\\assets\n"
     ]
    }
   ],
   "source": [
    "print(\"Accuracy: \", accuracy)\n",
    "if accuracy > 0.9:\n",
    "    model.save(\"trigrams_recognition\")\n",
    "    with open('trigrams_labels.pkl', 'wb') as f:\n",
    "        pickle.dump(encoder.classes_, f)\n",
    "    with open('trigrams_vectorizer.pkl', 'wb') as f:\n",
    "        pickle.dump(vectorizer, f)"
   ],
   "metadata": {
    "collapsed": false,
    "pycharm": {
     "name": "#%%\n"
    }
   }
  },
  {
   "cell_type": "code",
   "execution_count": null,
   "outputs": [],
   "source": [],
   "metadata": {
    "collapsed": false,
    "pycharm": {
     "name": "#%%\n"
    }
   }
  }
 ],
 "metadata": {
  "kernelspec": {
   "display_name": "Python 3 (ipykernel)",
   "language": "python",
   "name": "python3"
  },
  "language_info": {
   "codemirror_mode": {
    "name": "ipython",
    "version": 3
   },
   "file_extension": ".py",
   "mimetype": "text/x-python",
   "name": "python",
   "nbconvert_exporter": "python",
   "pygments_lexer": "ipython3",
   "version": "3.9.10"
  }
 },
 "nbformat": 4,
 "nbformat_minor": 5
}